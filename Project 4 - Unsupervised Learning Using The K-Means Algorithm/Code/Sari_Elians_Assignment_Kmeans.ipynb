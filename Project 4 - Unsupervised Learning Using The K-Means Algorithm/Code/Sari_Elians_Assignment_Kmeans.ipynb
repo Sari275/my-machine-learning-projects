{
  "nbformat": 4,
  "nbformat_minor": 0,
  "metadata": {
    "anaconda-cloud": {},
    "kernelspec": {
      "display_name": "Python 3",
      "language": "python",
      "name": "python3"
    },
    "language_info": {
      "codemirror_mode": {
        "name": "ipython",
        "version": 3
      },
      "file_extension": ".py",
      "mimetype": "text/x-python",
      "name": "python",
      "nbconvert_exporter": "python",
      "pygments_lexer": "ipython3",
      "version": "3.5.5"
    },
    "colab": {
      "provenance": []
    }
  },
  "cells": [
    {
      "cell_type": "markdown",
      "metadata": {
        "id": "EGNl9u_WAdqx"
      },
      "source": [
        "# K-means Clustering Algorithm\n",
        "\n",
        "You will implement the K-means unsupervised learning algorithm.\n",
        "\n",
        "Use the simplified Iris dataset provided to test your code.\n",
        "\n",
        "Column 1: sepal length.\n",
        "Column 2: sepal width\n",
        "\n",
        "50 samples for setosa, 50 samples for versicolor\n",
        "\n",
        "   \n"
      ]
    },
    {
      "cell_type": "code",
      "metadata": {
        "colab": {
          "base_uri": "https://localhost:8080/",
          "height": 528
        },
        "id": "NkmBxlIAAdq4",
        "outputId": "7a138ad5-c6b8-40fd-c738-33ab1e551981"
      },
      "source": [
        "# Load dataset and plot it\n",
        "\n",
        "%matplotlib inline\n",
        "from copy import deepcopy\n",
        "import numpy as np\n",
        "import pandas as pd\n",
        "from matplotlib import pyplot as plt\n",
        "from sklearn.cluster import KMeans\n",
        "# Bring the file into the local Python environment.\n",
        "df = pd.read_csv('simple_iris_dataset.csv')\n",
        "df1 = df['sepal_length'].values\n",
        "df2 = df['sepal_width'].values\n",
        "X = np.array(list(zip(df1, df2)))   # 100 x 2\n",
        "plt.scatter(df1, df2, c='black', s=7)\n",
        "print(X.shape)\n",
        "df.head"
      ],
      "execution_count": null,
      "outputs": [
        {
          "output_type": "stream",
          "name": "stdout",
          "text": [
            "(100, 2)\n"
          ]
        },
        {
          "output_type": "execute_result",
          "data": {
            "text/plain": [
              "<bound method NDFrame.head of     sepal_length  sepal_width\n",
              "0            7.0          3.2\n",
              "1            5.1          3.7\n",
              "2            5.9          3.2\n",
              "3            5.0          3.4\n",
              "4            6.2          2.2\n",
              "..           ...          ...\n",
              "95           5.1          2.5\n",
              "96           5.3          3.7\n",
              "97           5.0          3.3\n",
              "98           5.5          2.6\n",
              "99           5.8          4.0\n",
              "\n",
              "[100 rows x 2 columns]>"
            ]
          },
          "metadata": {},
          "execution_count": 31
        },
        {
          "output_type": "display_data",
          "data": {
            "text/plain": [
              "<Figure size 432x288 with 1 Axes>"
            ],
            "image/png": "[encoded data removed]"
          },
          "metadata": {
            "needs_background": "light"
          }
        }
      ]
    },
    {
      "cell_type": "code",
      "source": [
        "kmeans = KMeans(n_clusters = 2, init = 'k-means++', max_iter = 100, n_init = 10, random_state = 0)\n",
        "y_kmeans = kmeans.fit_predict(X)\n",
        "#Visualising the clusters\n",
        "plt.scatter(X[y_kmeans == 0, 0], X[y_kmeans == 0, 1], s = 10, c = 'purple', label = 'Iris-setosa')\n",
        "plt.scatter(X[y_kmeans == 1, 0], X[y_kmeans == 1, 1], s = 10, c = 'orange', label = 'Iris-versicolour')\n",
        "\n",
        "#Plotting the centroids of the clusters\n",
        "plt.scatter(kmeans.cluster_centers_[:, 0], kmeans.cluster_centers_[:,1], s = 100, c = 'red', marker='*', label = 'Centroids')\n",
        "centroid=(kmeans.cluster_centers_[:, 0], kmeans.cluster_centers_[:,1])\n",
        "print(centroid)\n",
        "\n",
        "plt.legend()"
      ],
      "metadata": {
        "colab": {
          "base_uri": "https://localhost:8080/",
          "height": 303
        },
        "id": "uBbI9vKftLlu",
        "outputId": "97d6fee5-55f7-417e-9e81-a3e5ff5f0e85"
      },
      "execution_count": null,
      "outputs": [
        {
          "output_type": "stream",
          "name": "stdout",
          "text": [
            "(array([6.02666667, 5.01636364]), array([2.79111111, 3.35090909]))\n"
          ]
        },
        {
          "output_type": "execute_result",
          "data": {
            "text/plain": [
              "<matplotlib.legend.Legend at 0x7f670eab5d30>"
            ]
          },
          "metadata": {},
          "execution_count": 32
        },
        {
          "output_type": "display_data",
          "data": {
            "text/plain": [
              "<Figure size 432x288 with 1 Axes>"
            ],
            "image/png": "[encoded data removed]"
          },
          "metadata": {
            "needs_background": "light"
          }
        }
      ]
    },
    {
      "cell_type": "code",
      "source": [
        "wcss = []\n",
        "\n",
        "for i in range(1, 11):\n",
        "    kmeans = KMeans(n_clusters = i, init = 'k-means++', max_iter = 300, n_init = 10, random_state = 0)\n",
        "    kmeans.fit(X)\n",
        "    wcss.append(kmeans.inertia_)\n",
        "\n",
        "print(f\"Algorithm Converges After {round(kmeans.inertia_)} iterations \")\n"
      ],
      "metadata": {
        "id": "TxGcn7biyy7G",
        "colab": {
          "base_uri": "https://localhost:8080/"
        },
        "outputId": "6380c125-ea16-4d4a-c7b7-12f3a2f2b5ea"
      },
      "execution_count": null,
      "outputs": [
        {
          "output_type": "stream",
          "name": "stdout",
          "text": [
            "Algorithm Converges After 5 iterations \n"
          ]
        }
      ]
    },
    {
      "cell_type": "code",
      "source": [
        "plt.plot(range(1, 11), wcss)\n",
        "plt.title('The elbow method')\n",
        "plt.xlabel('Number of clusters')\n",
        "plt.ylabel('WCSS') #within cluster sum of squares\n",
        "plt.show()"
      ],
      "metadata": {
        "id": "9V28vOZY_1pz",
        "outputId": "df176a5e-deb3-49d2-fcd5-df49aa8e5708",
        "colab": {
          "base_uri": "https://localhost:8080/",
          "height": 295
        }
      },
      "execution_count": null,
      "outputs": [
        {
          "output_type": "display_data",
          "data": {
            "text/plain": [
              "<Figure size 432x288 with 1 Axes>"
            ],
            "image/png": "[encoded data removed]"
          },
          "metadata": {
            "needs_background": "light"
          }
        }
      ]
    }
  ]
}