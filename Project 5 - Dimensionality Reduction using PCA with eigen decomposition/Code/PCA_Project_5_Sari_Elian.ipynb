{
  "nbformat": 4,
  "nbformat_minor": 0,
  "metadata": {
    "colab": {
      "provenance": [],
      "collapsed_sections": []
    },
    "kernelspec": {
      "name": "python3",
      "display_name": "Python 3"
    },
    "accelerator": "GPU"
  },
  "cells": [
    {
      "cell_type": "markdown",
      "metadata": {
        "id": "ml58PJ9UDwRk"
      },
      "source": [
        "**Principal Component Analysis**\n",
        "\n",
        "You will implement dimensionality reduction with PCA.  \n",
        "\n",
        "1). Read iris_dataset.csv (4 features, hence 4 PCs)\n",
        "\n",
        "2). Find the principal components\n",
        "\n",
        "3). Recontruct the dataset (X_hat)\n",
        "\n",
        "4). Determine the accuracy of X_hat for 1 PC and 4 PCs using LDA classifier (provided below)\n"
      ]
    },
    {
      "cell_type": "code",
      "metadata": {
        "id": "b3DA-QxT0O6X"
      },
      "source": [
        "import numpy as np\n",
        "import pandas as pd\n",
        "#import matplotlib.pyplot as plt\n",
        "from numpy import linalg as LA\n",
        "from sklearn.discriminant_analysis import LinearDiscriminantAnalysis\n",
        "from sklearn.model_selection import cross_val_score\n",
        "\n",
        "\n",
        "# Load data - 150 observations, 4 features, 3 classes, \n",
        "df = pd.read_csv(\"iris_dataset.csv\", header=None)\n",
        "print(df.describe())\n",
        "data = df.values\n",
        "print(np.shape(data))"
      ],
      "execution_count": null,
      "outputs": []
    },
    {
      "cell_type": "code",
      "metadata": {
        "id": "9J_I64r12CK1"
      },
      "source": [
        "## Setup\n",
        "\n",
        "# Shuffle data randomly\n",
        "shuffled_data = data;\n",
        "np.random.shuffle(shuffled_data)\n",
        "X = shuffled_data[:,0:4]  # 150x4\n",
        "y = shuffled_data[:,4]\n",
        "\n",
        "# Classification accuracy with the original dataset using LDA\n",
        "model_mean_scores = []\n",
        "model = LinearDiscriminantAnalysis().fit(X, y)\n",
        "scores = cross_val_score(model, X, y, cv=10)\n",
        "model_mean_scores.append(np.mean(scores))\n",
        "print('>> Average accuracy with the original dataset = {0:0.4f}'.format(model_mean_scores[0]))\n"
      ],
      "execution_count": null,
      "outputs": []
    },
    {
      "cell_type": "code",
      "metadata": {
        "id": "g3llQ6-RP00N"
      },
      "source": [
        "def evaluate_accuracy(X_hat, Num_PC, y):\n",
        "    \n",
        "  ###############################################\n",
        "  # Evaluate classificatin accuracy with LDA\n",
        "  ###############################################\n",
        "  '''\n",
        "    Inputs:\n",
        "      X_hat: reconstructed dataset. dimension=150x4\n",
        "      Num_PC: number of PC's used to recover X_hat\n",
        "      y: class label vector. dimension=150x1\n",
        "\n",
        "  '''\n",
        "  \n",
        "  from sklearn.discriminant_analysis import LinearDiscriminantAnalysis\n",
        "  from sklearn.model_selection import cross_val_score\n",
        "\n",
        "  X_train = X_hat[:,0:Num_PC]        # dimensionally reduced dataset\n",
        "  y_train = y\n",
        "\n",
        "  model_mean_scores = []\n",
        "  model = LinearDiscriminantAnalysis().fit(X_train, y_train)\n",
        "  scores = cross_val_score(model, X_train, y_train, cv=10)\n",
        "  model_mean_scores.append(np.mean(scores))\n",
        "\n",
        "  print('Average accuracy = {0:0.4f} with {1:1d} PCs'\n",
        "     .format(model_mean_scores[0], Num_PC))"
      ],
      "execution_count": null,
      "outputs": []
    },
    {
      "cell_type": "code",
      "metadata": {
        "id": "O-L8WvJIAKeY"
      },
      "source": [
        "### Your code goes here ...\n",
        "\n",
        "\n",
        "## Use function evaluate_accuracy \n",
        "\n",
        "evaluate_accuracy(X_hat, 1, y)  # classification accuracy with 1 PC\n",
        "\n",
        "evaluate_accuracy(X_hat, 4, y)  # classification accuracy with 4 PCs\n"
      ],
      "execution_count": null,
      "outputs": []
    }
  ]
}