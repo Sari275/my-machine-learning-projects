{
  "nbformat": 4,
  "nbformat_minor": 0,
  "metadata": {
    "colab": {
      "provenance": []
    },
    "kernelspec": {
      "name": "python3",
      "display_name": "Python 3"
    },
    "language_info": {
      "name": "python"
    }
  },
  "cells": [
    {
      "cell_type": "code",
      "execution_count": 3,
      "metadata": {
        "id": "QZuy26weVxhK",
        "outputId": "ab7d213b-e154-4f63-82b2-7f921a9a31e5",
        "colab": {
          "base_uri": "https://localhost:8080/",
          "height": 86
        }
      },
      "outputs": [
        {
          "output_type": "stream",
          "name": "stdout",
          "text": [
            "HiddenWeights[0]: [-4.94361391  2.40867937 -4.26087905  1.83577244]\n",
            "HiddenWeights[1]: [-1.89733511  4.86934717  4.60322224 -2.24152612]\n",
            "OutputWeights[0]: [ 8.83953718 -0.89184925 -3.84335255]\n",
            "OutputWeights[1]: [ 0.57035568 -8.75880036  3.91583499]\n"
          ]
        },
        {
          "output_type": "display_data",
          "data": {
            "text/plain": [
              "<IPython.core.display.Javascript object>"
            ],
            "application/javascript": [
              "\n",
              "    async function download(id, filename, size) {\n",
              "      if (!google.colab.kernel.accessAllowed) {\n",
              "        return;\n",
              "      }\n",
              "      const div = document.createElement('div');\n",
              "      const label = document.createElement('label');\n",
              "      label.textContent = `Downloading \"${filename}\": `;\n",
              "      div.appendChild(label);\n",
              "      const progress = document.createElement('progress');\n",
              "      progress.max = size;\n",
              "      div.appendChild(progress);\n",
              "      document.body.appendChild(div);\n",
              "\n",
              "      const buffers = [];\n",
              "      let downloaded = 0;\n",
              "\n",
              "      const channel = await google.colab.kernel.comms.open(id);\n",
              "      // Send a message to notify the kernel that we're ready.\n",
              "      channel.send({})\n",
              "\n",
              "      for await (const message of channel.messages) {\n",
              "        // Send a message to notify the kernel that we're ready.\n",
              "        channel.send({})\n",
              "        if (message.buffers) {\n",
              "          for (const buffer of message.buffers) {\n",
              "            buffers.push(buffer);\n",
              "            downloaded += buffer.byteLength;\n",
              "            progress.value = downloaded;\n",
              "          }\n",
              "        }\n",
              "      }\n",
              "      const blob = new Blob(buffers, {type: 'application/binary'});\n",
              "      const a = document.createElement('a');\n",
              "      a.href = window.URL.createObjectURL(blob);\n",
              "      a.download = filename;\n",
              "      div.appendChild(a);\n",
              "      a.click();\n",
              "      div.remove();\n",
              "    }\n",
              "  "
            ]
          },
          "metadata": {}
        },
        {
          "output_type": "display_data",
          "data": {
            "text/plain": [
              "<IPython.core.display.Javascript object>"
            ],
            "application/javascript": [
              "download(\"download_21b867e0-8ffb-4742-89ed-01f705b2282a\", \"MLP_weights.csv\", 266)"
            ]
          },
          "metadata": {}
        }
      ],
      "source": [
        "import numpy as np\n",
        "import numpy.matlib\n",
        "import pandas as pd\n",
        "\n",
        "InputNodes = 3\n",
        "HiddenNodes = 2\n",
        "OutputNodes = 2\n",
        "\n",
        "Input = np.array([[0,0,0],\n",
        "                  [0,0,1],\n",
        "                  [0,1,0],\n",
        "                  [1,0,0]])\n",
        "\n",
        "Target = np.array([[1,1],\n",
        "                   [0,0],\n",
        "                   [1,0],\n",
        "                   [0,1]])\n",
        "\n",
        "Hidden = np.zeros((HiddenNodes,1))\n",
        "Output = np.zeros((OutputNodes,1))\n",
        "\n",
        "# Initialize the weights randomly with a seed\n",
        "rng = np.random.default_rng(seed=12)\n",
        "HiddenWeights = rng.random((HiddenNodes, InputNodes+1))\n",
        "OutputWeights = rng.random((OutputNodes, HiddenNodes+1))\n",
        "\n",
        "def sigmoid(x):\n",
        "    return 1/(1+np.exp(-x))\n",
        "\n",
        "def forward(Input):\n",
        "    global Hidden, Output\n",
        "    InputWithBias = np.append(Input,1)\n",
        "    Hidden = sigmoid(np.dot(HiddenWeights, InputWithBias))\n",
        "    HiddenWithBias = np.append(Hidden,1)\n",
        "    Output = sigmoid(np.dot(OutputWeights, HiddenWithBias))\n",
        "    return Output\n",
        "\n",
        "def calculate_error(Target):\n",
        "    global Output\n",
        "    return np.sum((Target - Output)**2)/2\n",
        "\n",
        "def update_weights(Input, Target, Learning_Rate):\n",
        "    global Hidden, Output, HiddenWeights, OutputWeights\n",
        "    InputWithBias = np.append(Input,1)\n",
        "    HiddenWithBias = np.append(Hidden,1)\n",
        "    delta_output = (Output - Target)*Output*(1-Output)\n",
        "    delta_hidden = np.dot(OutputWeights[:,:-1].T, delta_output)*Hidden*(1-Hidden)\n",
        "    OutputWeights -= Learning_Rate*np.outer(delta_output, HiddenWithBias)\n",
        "    HiddenWeights -= Learning_Rate*np.outer(delta_hidden, InputWithBias)\n",
        "\n",
        "# Train the network\n",
        "Learning_Rate = 0.1\n",
        "MAX_Epochs = 15000\n",
        "Error_Threshold = 0.005\n",
        "Epoch = 0\n",
        "Error = 1\n",
        "while Epoch < MAX_Epochs and Error > Error_Threshold:\n",
        "    # Randomize the dataset\n",
        "    permutation = np.random.permutation(Input.shape[0])\n",
        "    Input = Input[permutation,:]\n",
        "    Target = Target[permutation,:]\n",
        "    # Train for each pattern\n",
        "    error = 0\n",
        "    for i in range(Input.shape[0]):\n",
        "        input = Input[i,:]\n",
        "        target = Target[i,:]\n",
        "        forward(input)\n",
        "        error += calculate_error(target)\n",
        "        update_weights(input, target, Learning_Rate)\n",
        "    error /= Input.shape[0]\n",
        "    #print('Epoch {}: error = {}'.format(epoch, error))\n",
        "    Epoch += 1\n",
        "\n",
        "# Print Hidden Weights and Output Weights\n",
        "for i in range(HiddenNodes):\n",
        "  print('HiddenWeights[{}]: {}'.format(i, HiddenWeights[i,:]))\n",
        "\n",
        "for i in range(OutputNodes):\n",
        "  print('OutputWeights[{}]: {}'.format(i, OutputWeights[i,:]))\n",
        "\n",
        "# Save Hidden Weights and Output Weights in .csv file\n",
        "df = pd.concat([pd.DataFrame(HiddenWeights), pd.DataFrame(OutputWeights)])\n",
        "df.to_csv('MLP_weights.csv', index=False, header=False)\n",
        "\n",
        "# Download to local directory\n",
        "from google.colab import files\n",
        "files.download('MLP_weights.csv')"
      ]
    },
    {
      "cell_type": "code",
      "source": [],
      "metadata": {
        "id": "g9ejzMXoCMik"
      },
      "execution_count": null,
      "outputs": []
    }
  ]
}